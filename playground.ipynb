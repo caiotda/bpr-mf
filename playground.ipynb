{
 "cells": [
  {
   "cell_type": "code",
   "execution_count": 1,
   "metadata": {},
   "outputs": [],
   "source": [
    "import os\n",
    "os.environ[\"CUDA_LAUNCH_BLOCKING\"] = \"1\"\n",
    "os.environ['TORCH_USE_CUDA_DSA'] = '1'\n"
   ]
  },
  {
   "cell_type": "code",
   "execution_count": 2,
   "metadata": {},
   "outputs": [],
   "source": [
    "\n",
    "\n",
    "from torch import nn\n",
    "from torch.utils.data import Dataset, DataLoader, random_split\n",
    "import torch\n",
    "import numpy as np\n",
    "\n",
    "import pandas as pd\n",
    "import matplotlib.pyplot as plt\n",
    "\n",
    "\n",
    "\n",
    "from utils import generate_bpr_dataset, generate_bpr_dataset_with_click_data\n",
    "from bpr_mf import bprMF, bprMFDataloader, bpr_loss_with_reg, bpr_train, bpr_loss_with_reg"
   ]
  },
  {
   "cell_type": "code",
   "execution_count": null,
   "metadata": {},
   "outputs": [],
   "source": []
  },
  {
   "cell_type": "code",
   "execution_count": 3,
   "metadata": {},
   "outputs": [
    {
     "data": {
      "text/plain": [
       "device(type='cuda')"
      ]
     },
     "execution_count": 3,
     "metadata": {},
     "output_type": "execute_result"
    }
   ],
   "source": [
    "device = torch.device('cuda' if torch.cuda.is_available() else 'cpu')\n",
    "device"
   ]
  },
  {
   "cell_type": "code",
   "execution_count": 4,
   "metadata": {},
   "outputs": [],
   "source": [
    "interactions = pd.read_csv('movielens_1m_ratings.csv')[[\"user\", \"item\"]]"
   ]
  },
  {
   "cell_type": "markdown",
   "metadata": {},
   "source": [
    "## Developing a simple matrix factorization with pytorch\n",
    "\n",
    "\n",
    "We'll start developing a matrix factorization model which focused on regressions tasks using pytorch for modelling and MSE for loss."
   ]
  },
  {
   "cell_type": "code",
   "execution_count": 5,
   "metadata": {},
   "outputs": [],
   "source": [
    "from simple_mf import MF, MFDataLoader"
   ]
  },
  {
   "cell_type": "code",
   "execution_count": null,
   "metadata": {},
   "outputs": [],
   "source": []
  },
  {
   "cell_type": "code",
   "execution_count": 6,
   "metadata": {},
   "outputs": [],
   "source": [
    "\n",
    "def train(dataloader, model, loss_fn, optimizer, n_epochs=10):\n",
    "    batch_losses = [] \n",
    "    epoch_losses = []\n",
    "    model.train()\n",
    "    for epoch in range(n_epochs):\n",
    "\n",
    "        epoch_loss = []\n",
    "        for batch, ((user_ids, item_ids), ratings) in enumerate(dataloader):\n",
    "            user_ids = user_ids.to(device)\n",
    "            item_ids = item_ids.to(device)\n",
    "            ratings = ratings.to(device).float()\n",
    "\n",
    "            pred = model(user_ids, item_ids)\n",
    "            loss = loss_fn(pred, ratings)\n",
    "\n",
    "            epoch_loss.append(loss.item())\n",
    "            batch_losses.append(loss.item())\n",
    "\n",
    "            loss.backward()\n",
    "            optimizer.step()\n",
    "            optimizer.zero_grad()\n",
    "        epoch_loss = sum(epoch_loss) / len(epoch_loss)\n",
    "        epoch_losses.append(epoch_loss)\n",
    "        print(f\"epoch mean loss: {epoch_loss:>7f}; Epoch: {epoch+1}/{n_epochs}\")\n",
    "    return batch_losses, epoch_losses\n",
    "        \n"
   ]
  },
  {
   "cell_type": "code",
   "execution_count": 7,
   "metadata": {},
   "outputs": [],
   "source": [
    "data = MFDataLoader('movielens_1m_ratings.csv')\n",
    "dataloader = DataLoader(data, batch_size=256, shuffle=True)"
   ]
  },
  {
   "cell_type": "code",
   "execution_count": 8,
   "metadata": {},
   "outputs": [],
   "source": [
    "model = MF(num_users=data.n_users, num_items=data.n_items, factors=30).to(device)\n",
    "loss_fn = nn.MSELoss()\n",
    "optimizer = torch.optim.Adam(model.parameters(), lr=1e-2)"
   ]
  },
  {
   "cell_type": "code",
   "execution_count": 9,
   "metadata": {},
   "outputs": [
    {
     "name": "stdout",
     "output_type": "stream",
     "text": [
      "epoch mean loss: 3.412419; Epoch: 1/10\n",
      "epoch mean loss: 1.396009; Epoch: 2/10\n"
     ]
    },
    {
     "ename": "KeyboardInterrupt",
     "evalue": "",
     "output_type": "error",
     "traceback": [
      "\u001b[31m---------------------------------------------------------------------------\u001b[39m",
      "\u001b[31mKeyboardInterrupt\u001b[39m                         Traceback (most recent call last)",
      "\u001b[32m/tmp/ipykernel_5872/3278628872.py\u001b[39m in \u001b[36m?\u001b[39m\u001b[34m()\u001b[39m\n\u001b[32m----> \u001b[39m\u001b[32m1\u001b[39m b_loss, e_loss = train(dataloader, model, loss_fn, optimizer)\n",
      "\u001b[32m/tmp/ipykernel_5872/3718272081.py\u001b[39m in \u001b[36m?\u001b[39m\u001b[34m(dataloader, model, loss_fn, optimizer, n_epochs)\u001b[39m\n\u001b[32m      4\u001b[39m     model.train()\n\u001b[32m      5\u001b[39m     \u001b[38;5;28;01mfor\u001b[39;00m epoch \u001b[38;5;28;01min\u001b[39;00m range(n_epochs):\n\u001b[32m      6\u001b[39m \n\u001b[32m      7\u001b[39m         epoch_loss = []\n\u001b[32m----> \u001b[39m\u001b[32m8\u001b[39m         \u001b[38;5;28;01mfor\u001b[39;00m batch, ((user_ids, item_ids), ratings) \u001b[38;5;28;01min\u001b[39;00m enumerate(dataloader):\n\u001b[32m      9\u001b[39m             user_ids = user_ids.to(device)\n\u001b[32m     10\u001b[39m             item_ids = item_ids.to(device)\n\u001b[32m     11\u001b[39m             ratings = ratings.to(device).float()\n",
      "\u001b[32m~/dev/bpr-mf/.bpr-mf/lib/python3.12/site-packages/torch/utils/data/dataloader.py\u001b[39m in \u001b[36m?\u001b[39m\u001b[34m(self)\u001b[39m\n\u001b[32m    729\u001b[39m         \u001b[38;5;28;01mwith\u001b[39;00m torch.autograd.profiler.record_function(self._profile_name):\n\u001b[32m    730\u001b[39m             \u001b[38;5;28;01mif\u001b[39;00m self._sampler_iter \u001b[38;5;28;01mis\u001b[39;00m \u001b[38;5;28;01mNone\u001b[39;00m:\n\u001b[32m    731\u001b[39m                 \u001b[38;5;66;03m# TODO(https://github.com/pytorch/pytorch/issues/76750)\u001b[39;00m\n\u001b[32m    732\u001b[39m                 self._reset()  \u001b[38;5;66;03m# type: ignore[call-arg]\u001b[39;00m\n\u001b[32m--> \u001b[39m\u001b[32m733\u001b[39m             data = self._next_data()\n\u001b[32m    734\u001b[39m             self._num_yielded += \u001b[32m1\u001b[39m\n\u001b[32m    735\u001b[39m             if (\n\u001b[32m    736\u001b[39m                 self._dataset_kind == _DatasetKind.Iterable\n",
      "\u001b[32m~/dev/bpr-mf/.bpr-mf/lib/python3.12/site-packages/torch/utils/data/dataloader.py\u001b[39m in \u001b[36m?\u001b[39m\u001b[34m(self)\u001b[39m\n\u001b[32m    787\u001b[39m     \u001b[38;5;28;01mdef\u001b[39;00m _next_data(self):\n\u001b[32m    788\u001b[39m         index = self._next_index()  \u001b[38;5;66;03m# may raise StopIteration\u001b[39;00m\n\u001b[32m--> \u001b[39m\u001b[32m789\u001b[39m         data = self._dataset_fetcher.fetch(index)  \u001b[38;5;66;03m# may raise StopIteration\u001b[39;00m\n\u001b[32m    790\u001b[39m         \u001b[38;5;28;01mif\u001b[39;00m self._pin_memory:\n\u001b[32m    791\u001b[39m             data = _utils.pin_memory.pin_memory(data, self._pin_memory_device)\n\u001b[32m    792\u001b[39m         \u001b[38;5;28;01mreturn\u001b[39;00m data\n",
      "\u001b[32m~/dev/bpr-mf/.bpr-mf/lib/python3.12/site-packages/torch/utils/data/_utils/fetch.py\u001b[39m in \u001b[36m?\u001b[39m\u001b[34m(self, possibly_batched_index)\u001b[39m\n\u001b[32m     48\u001b[39m         \u001b[38;5;28;01mif\u001b[39;00m self.auto_collation:\n\u001b[32m     49\u001b[39m             \u001b[38;5;28;01mif\u001b[39;00m hasattr(self.dataset, \u001b[33m\"__getitems__\"\u001b[39m) \u001b[38;5;28;01mand\u001b[39;00m self.dataset.__getitems__:\n\u001b[32m     50\u001b[39m                 data = self.dataset.__getitems__(possibly_batched_index)\n\u001b[32m     51\u001b[39m             \u001b[38;5;28;01melse\u001b[39;00m:\n\u001b[32m---> \u001b[39m\u001b[32m52\u001b[39m                 data = [self.dataset[idx] \u001b[38;5;28;01mfor\u001b[39;00m idx \u001b[38;5;28;01min\u001b[39;00m possibly_batched_index]\n\u001b[32m     53\u001b[39m         \u001b[38;5;28;01melse\u001b[39;00m:\n\u001b[32m     54\u001b[39m             data = self.dataset[possibly_batched_index]\n\u001b[32m     55\u001b[39m         \u001b[38;5;28;01mreturn\u001b[39;00m self.collate_fn(data)\n",
      "\u001b[32m~/dev/bpr-mf/simple_mf.py\u001b[39m in \u001b[36m?\u001b[39m\u001b[34m(self, idx)\u001b[39m\n\u001b[32m     39\u001b[39m     \u001b[38;5;28;01mdef\u001b[39;00m __getitem__(self, idx):\n\u001b[32m---> \u001b[39m\u001b[32m40\u001b[39m         row = self.data.iloc[idx]\n\u001b[32m     41\u001b[39m \n\u001b[32m     42\u001b[39m         user = int(row[\u001b[33m'user'\u001b[39m])\n\u001b[32m     43\u001b[39m         item = int(row[\u001b[33m'item'\u001b[39m])\n",
      "\u001b[32m~/dev/bpr-mf/.bpr-mf/lib/python3.12/site-packages/pandas/core/indexing.py\u001b[39m in \u001b[36m?\u001b[39m\u001b[34m(self, key)\u001b[39m\n\u001b[32m   1187\u001b[39m             axis = self.axis \u001b[38;5;28;01mor\u001b[39;00m \u001b[32m0\u001b[39m\n\u001b[32m   1188\u001b[39m \n\u001b[32m   1189\u001b[39m             maybe_callable = com.apply_if_callable(key, self.obj)\n\u001b[32m   1190\u001b[39m             maybe_callable = self._check_deprecated_callable_usage(key, maybe_callable)\n\u001b[32m-> \u001b[39m\u001b[32m1191\u001b[39m             \u001b[38;5;28;01mreturn\u001b[39;00m self._getitem_axis(maybe_callable, axis=axis)\n",
      "\u001b[32m~/dev/bpr-mf/.bpr-mf/lib/python3.12/site-packages/pandas/core/indexing.py\u001b[39m in \u001b[36m?\u001b[39m\u001b[34m(self, key, axis)\u001b[39m\n\u001b[32m   1750\u001b[39m \n\u001b[32m   1751\u001b[39m             \u001b[38;5;66;03m# validate the location\u001b[39;00m\n\u001b[32m   1752\u001b[39m             self._validate_integer(key, axis)\n\u001b[32m   1753\u001b[39m \n\u001b[32m-> \u001b[39m\u001b[32m1754\u001b[39m             \u001b[38;5;28;01mreturn\u001b[39;00m self.obj._ixs(key, axis=axis)\n",
      "\u001b[32m~/dev/bpr-mf/.bpr-mf/lib/python3.12/site-packages/pandas/core/frame.py\u001b[39m in \u001b[36m?\u001b[39m\u001b[34m(self, i, axis)\u001b[39m\n\u001b[32m   4001\u001b[39m             new_mgr = self._mgr.fast_xs(i)\n\u001b[32m   4002\u001b[39m \n\u001b[32m   4003\u001b[39m             \u001b[38;5;66;03m# if we are a copy, mark as such\u001b[39;00m\n\u001b[32m   4004\u001b[39m             copy = isinstance(new_mgr.array, np.ndarray) \u001b[38;5;28;01mand\u001b[39;00m new_mgr.array.base \u001b[38;5;28;01mis\u001b[39;00m \u001b[38;5;28;01mNone\u001b[39;00m\n\u001b[32m-> \u001b[39m\u001b[32m4005\u001b[39m             result = self._constructor_sliced_from_mgr(new_mgr, axes=new_mgr.axes)\n\u001b[32m   4006\u001b[39m             result._name = self.index[i]\n\u001b[32m   4007\u001b[39m             result = result.__finalize__(self)\n\u001b[32m   4008\u001b[39m             result._set_is_copy(self, copy=copy)\n",
      "\u001b[32m~/dev/bpr-mf/.bpr-mf/lib/python3.12/site-packages/pandas/core/frame.py\u001b[39m in \u001b[36m?\u001b[39m\u001b[34m(self, mgr, axes)\u001b[39m\n\u001b[32m    678\u001b[39m     \u001b[38;5;28;01mdef\u001b[39;00m _constructor_sliced_from_mgr(self, mgr, axes) -> Series:\n\u001b[32m--> \u001b[39m\u001b[32m679\u001b[39m         ser = Series._from_mgr(mgr, axes)\n\u001b[32m    680\u001b[39m         ser._name = \u001b[38;5;28;01mNone\u001b[39;00m  \u001b[38;5;66;03m# caller is responsible for setting real name\u001b[39;00m\n\u001b[32m    681\u001b[39m \n\u001b[32m    682\u001b[39m         \u001b[38;5;28;01mif\u001b[39;00m type(self) \u001b[38;5;28;01mis\u001b[39;00m DataFrame:\n",
      "\u001b[32m~/dev/bpr-mf/.bpr-mf/lib/python3.12/site-packages/pandas/core/generic.py\u001b[39m in \u001b[36m?\u001b[39m\u001b[34m(cls, mgr, axes)\u001b[39m\n\u001b[32m    353\u001b[39m         The axes must match mgr.axes, but are required \u001b[38;5;28;01mfor\u001b[39;00m future-proofing\n\u001b[32m    354\u001b[39m         \u001b[38;5;28;01min\u001b[39;00m the event that axes are refactored out of the Manager objects.\n\u001b[32m    355\u001b[39m         \"\"\"\n\u001b[32m    356\u001b[39m         obj = cls.__new__(cls)\n\u001b[32m--> \u001b[39m\u001b[32m357\u001b[39m         NDFrame.__init__(obj, mgr)\n\u001b[32m    358\u001b[39m         \u001b[38;5;28;01mreturn\u001b[39;00m obj\n",
      "\u001b[32m~/dev/bpr-mf/.bpr-mf/lib/python3.12/site-packages/pandas/core/generic.py\u001b[39m in \u001b[36m?\u001b[39m\u001b[34m(self, data)\u001b[39m\n\u001b[32m    278\u001b[39m     \u001b[38;5;28;01mdef\u001b[39;00m __init__(self, data: Manager) -> \u001b[38;5;28;01mNone\u001b[39;00m:\n\u001b[32m    279\u001b[39m         object.__setattr__(self, \u001b[33m\"_is_copy\"\u001b[39m, \u001b[38;5;28;01mNone\u001b[39;00m)\n\u001b[32m--> \u001b[39m\u001b[32m280\u001b[39m         object.__setattr__(self, \u001b[33m\"_mgr\"\u001b[39m, data)\n\u001b[32m    281\u001b[39m         object.__setattr__(self, \u001b[33m\"_item_cache\"\u001b[39m, {})\n\u001b[32m    282\u001b[39m         object.__setattr__(self, \u001b[33m\"_attrs\"\u001b[39m, {})\n\u001b[32m    283\u001b[39m         object.__setattr__(self, \u001b[33m\"_flags\"\u001b[39m, Flags(self, allows_duplicate_labels=\u001b[38;5;28;01mTrue\u001b[39;00m))\n",
      "\u001b[31mKeyboardInterrupt\u001b[39m: "
     ]
    }
   ],
   "source": [
    "b_loss, e_loss = train(dataloader, model, loss_fn, optimizer)"
   ]
  },
  {
   "cell_type": "code",
   "execution_count": null,
   "metadata": {},
   "outputs": [],
   "source": [
    "import matplotlib.pyplot as plt"
   ]
  },
  {
   "cell_type": "code",
   "execution_count": null,
   "metadata": {},
   "outputs": [
    {
     "data": {
      "text/plain": [
       "[<matplotlib.lines.Line2D at 0x73f37b1477a0>]"
      ]
     },
     "execution_count": 107,
     "metadata": {},
     "output_type": "execute_result"
    },
    {
     "data": {
      "image/png": "[encoded data removed]",
      "text/plain": [
       "<Figure size 640x480 with 1 Axes>"
      ]
     },
     "metadata": {},
     "output_type": "display_data"
    }
   ],
   "source": [
    "plt.plot(e_loss, label='epoch loss')"
   ]
  },
  {
   "cell_type": "markdown",
   "metadata": {},
   "source": [
    "## Developing a MF model based using BPR opt\n",
    "\n",
    "\n",
    "Now we'll generalize the previous implementation using implicit feedback data and applying BPR (Bayesian personalized ranking) loss function, so that the model is capable of building personalzied rankings for users"
   ]
  },
  {
   "cell_type": "code",
   "execution_count": null,
   "metadata": {},
   "outputs": [],
   "source": []
  },
  {
   "cell_type": "markdown",
   "metadata": {},
   "source": [
    "### Step 1 : adapt training data for BPR\n",
    "\n",
    "\n",
    "BPR expects implicit feedback data and relative ordering in the training dataset"
   ]
  },
  {
   "cell_type": "code",
   "execution_count": null,
   "metadata": {},
   "outputs": [],
   "source": []
  },
  {
   "cell_type": "code",
   "execution_count": 11,
   "metadata": {},
   "outputs": [],
   "source": [
    "\n",
    "zero_based_indexing = {v: K for K, v in enumerate(interactions[\"item\"].unique())}\n",
    "interactions[\"item\"] = interactions[\"item\"].map(zero_based_indexing)\n",
    "\n",
    "bpr_df = generate_bpr_dataset(interactions)"
   ]
  },
  {
   "cell_type": "code",
   "execution_count": 12,
   "metadata": {},
   "outputs": [
    {
     "data": {
      "text/plain": [
       "array([   1,    1,    1, ..., 6040, 6040, 6040], shape=(3000627,))"
      ]
     },
     "execution_count": 12,
     "metadata": {},
     "output_type": "execute_result"
    }
   ],
   "source": [
    "bpr_df[\"user\"].values"
   ]
  },
  {
   "cell_type": "markdown",
   "metadata": {},
   "source": [
    "### Step 2: Create a MF model using BPR loss function"
   ]
  },
  {
   "cell_type": "code",
   "execution_count": null,
   "metadata": {},
   "outputs": [],
   "source": []
  },
  {
   "cell_type": "code",
   "execution_count": 15,
   "metadata": {},
   "outputs": [
    {
     "data": {
      "text/html": [
       "<div>\n",
       "<style scoped>\n",
       "    .dataframe tbody tr th:only-of-type {\n",
       "        vertical-align: middle;\n",
       "    }\n",
       "\n",
       "    .dataframe tbody tr th {\n",
       "        vertical-align: top;\n",
       "    }\n",
       "\n",
       "    .dataframe thead th {\n",
       "        text-align: right;\n",
       "    }\n",
       "</style>\n",
       "<table border=\"1\" class=\"dataframe\">\n",
       "  <thead>\n",
       "    <tr style=\"text-align: right;\">\n",
       "      <th></th>\n",
       "      <th>user</th>\n",
       "      <th>pos_item</th>\n",
       "      <th>neg_item</th>\n",
       "    </tr>\n",
       "  </thead>\n",
       "  <tbody>\n",
       "    <tr>\n",
       "      <th>0</th>\n",
       "      <td>1</td>\n",
       "      <td>0</td>\n",
       "      <td>1462</td>\n",
       "    </tr>\n",
       "    <tr>\n",
       "      <th>1</th>\n",
       "      <td>1</td>\n",
       "      <td>0</td>\n",
       "      <td>3641</td>\n",
       "    </tr>\n",
       "    <tr>\n",
       "      <th>2</th>\n",
       "      <td>1</td>\n",
       "      <td>0</td>\n",
       "      <td>1897</td>\n",
       "    </tr>\n",
       "    <tr>\n",
       "      <th>3</th>\n",
       "      <td>1</td>\n",
       "      <td>1</td>\n",
       "      <td>2160</td>\n",
       "    </tr>\n",
       "    <tr>\n",
       "      <th>4</th>\n",
       "      <td>1</td>\n",
       "      <td>1</td>\n",
       "      <td>1134</td>\n",
       "    </tr>\n",
       "    <tr>\n",
       "      <th>...</th>\n",
       "      <td>...</td>\n",
       "      <td>...</td>\n",
       "      <td>...</td>\n",
       "    </tr>\n",
       "    <tr>\n",
       "      <th>3000622</th>\n",
       "      <td>6040</td>\n",
       "      <td>152</td>\n",
       "      <td>2202</td>\n",
       "    </tr>\n",
       "    <tr>\n",
       "      <th>3000623</th>\n",
       "      <td>6040</td>\n",
       "      <td>152</td>\n",
       "      <td>1837</td>\n",
       "    </tr>\n",
       "    <tr>\n",
       "      <th>3000624</th>\n",
       "      <td>6040</td>\n",
       "      <td>26</td>\n",
       "      <td>2562</td>\n",
       "    </tr>\n",
       "    <tr>\n",
       "      <th>3000625</th>\n",
       "      <td>6040</td>\n",
       "      <td>26</td>\n",
       "      <td>2205</td>\n",
       "    </tr>\n",
       "    <tr>\n",
       "      <th>3000626</th>\n",
       "      <td>6040</td>\n",
       "      <td>26</td>\n",
       "      <td>1794</td>\n",
       "    </tr>\n",
       "  </tbody>\n",
       "</table>\n",
       "<p>3000627 rows × 3 columns</p>\n",
       "</div>"
      ],
      "text/plain": [
       "         user  pos_item  neg_item\n",
       "0           1         0      1462\n",
       "1           1         0      3641\n",
       "2           1         0      1897\n",
       "3           1         1      2160\n",
       "4           1         1      1134\n",
       "...       ...       ...       ...\n",
       "3000622  6040       152      2202\n",
       "3000623  6040       152      1837\n",
       "3000624  6040        26      2562\n",
       "3000625  6040        26      2205\n",
       "3000626  6040        26      1794\n",
       "\n",
       "[3000627 rows x 3 columns]"
      ]
     },
     "execution_count": 15,
     "metadata": {},
     "output_type": "execute_result"
    }
   ],
   "source": [
    "bpr_df"
   ]
  },
  {
   "cell_type": "code",
   "execution_count": null,
   "metadata": {},
   "outputs": [],
   "source": [
    "\n"
   ]
  },
  {
   "cell_type": "code",
   "execution_count": null,
   "metadata": {},
   "outputs": [],
   "source": [
    "data_bpr = bprMFDataloader(bpr_df)\n",
    "\n",
    "\n",
    "# Calculate split lengths\n",
    "train_len = int(0.7 * len(data_bpr))\n",
    "test_len = len(data_bpr) - train_len\n",
    "\n",
    "\n",
    "train_data, test_data = random_split(data_bpr, [train_len, test_len])\n",
    "\n"
   ]
  },
  {
   "cell_type": "code",
   "execution_count": 18,
   "metadata": {},
   "outputs": [],
   "source": [
    "\n",
    "\n",
    "dataloader_bpr_train = DataLoader(train_data, batch_size=256, shuffle=True)\n",
    "dataloader_bpr_test = DataLoader(test_data, batch_size=256, shuffle=True)"
   ]
  },
  {
   "cell_type": "code",
   "execution_count": 19,
   "metadata": {},
   "outputs": [],
   "source": [
    "\n",
    "n_users = bpr_df.user.max() + 1\n",
    "n_items = bpr_df.pos_item.max() + 1"
   ]
  },
  {
   "cell_type": "code",
   "execution_count": 20,
   "metadata": {},
   "outputs": [
    {
     "data": {
      "text/plain": [
       "(np.int64(6041), np.int64(3706))"
      ]
     },
     "execution_count": 20,
     "metadata": {},
     "output_type": "execute_result"
    }
   ],
   "source": [
    "n_users, n_items"
   ]
  },
  {
   "cell_type": "code",
   "execution_count": 32,
   "metadata": {},
   "outputs": [],
   "source": [
    "model = bprMF(num_users=n_users, num_items=n_items, factors=30).to(device)\n",
    "optimizer = torch.optim.Adam(model.parameters(), lr=1e-3)"
   ]
  },
  {
   "cell_type": "code",
   "execution_count": null,
   "metadata": {},
   "outputs": [],
   "source": []
  },
  {
   "cell_type": "code",
   "execution_count": 33,
   "metadata": {},
   "outputs": [
    {
     "name": "stdout",
     "output_type": "stream",
     "text": [
      "Train epoch mean loss: 0.339638;\n",
      " Test epoch mean loss: 0.265157; Epoch: 1/10\n",
      "Train epoch mean loss: 0.239879;\n",
      " Test epoch mean loss: 0.226896; Epoch: 2/10\n",
      "Train epoch mean loss: 0.203948;\n",
      " Test epoch mean loss: 0.203598; Epoch: 3/10\n",
      "Train epoch mean loss: 0.180602;\n",
      " Test epoch mean loss: 0.192519; Epoch: 4/10\n",
      "Train epoch mean loss: 0.165017;\n",
      " Test epoch mean loss: 0.186690; Epoch: 5/10\n",
      "Train epoch mean loss: 0.152517;\n",
      " Test epoch mean loss: 0.183518; Epoch: 6/10\n",
      "Train epoch mean loss: 0.142106;\n",
      " Test epoch mean loss: 0.182399; Epoch: 7/10\n",
      "Train epoch mean loss: 0.133714;\n",
      " Test epoch mean loss: 0.182995; Epoch: 8/10\n",
      "Train epoch mean loss: 0.127209;\n",
      " Test epoch mean loss: 0.184701; Epoch: 9/10\n",
      "Train epoch mean loss: 0.122209;\n",
      " Test epoch mean loss: 0.187272; Epoch: 10/10\n"
     ]
    }
   ],
   "source": [
    "train_loss, test_loss = bpr_train(dataloader_bpr_train, dataloader_bpr_test, model, bpr_loss_with_reg, optimizer, reg_lambda=5e-4, debug=True)"
   ]
  },
  {
   "cell_type": "code",
   "execution_count": 34,
   "metadata": {},
   "outputs": [
    {
     "data": {
      "image/png": "[encoded data removed]",
      "text/plain": [
       "<Figure size 800x500 with 1 Axes>"
      ]
     },
     "metadata": {},
     "output_type": "display_data"
    }
   ],
   "source": [
    "plt.figure(figsize=(8, 5))\n",
    "plt.plot(train_loss, label='Train Loss')\n",
    "plt.plot(test_loss, label='Test Loss')\n",
    "plt.xlabel('Epoch')\n",
    "plt.ylabel('Loss')\n",
    "plt.title('Train vs Test Loss per Epoch')\n",
    "plt.legend()\n",
    "plt.show()"
   ]
  },
  {
   "cell_type": "markdown",
   "metadata": {},
   "source": [
    "## Developing a BPR variant for click position debiasing"
   ]
  },
  {
   "cell_type": "markdown",
   "metadata": {},
   "source": []
  },
  {
   "cell_type": "code",
   "execution_count": null,
   "metadata": {},
   "outputs": [],
   "source": [
    "from evaluation import Evaluate"
   ]
  },
  {
   "cell_type": "code",
   "execution_count": 5,
   "metadata": {},
   "outputs": [],
   "source": [
    "interactions = pd.read_csv('movielens_1m_ratings.csv')[[\"user\", \"item\", \"rating\"]]\n",
    "interactions[\"relevant\"] = interactions[\"rating\"].apply(lambda r: int(r >= 4))\n",
    "zero_based_indexing = {v: K for K, v in enumerate(interactions[\"item\"].unique())}\n",
    "interactions[\"item\"] = interactions[\"item\"].map(zero_based_indexing)\n"
   ]
  },
  {
   "cell_type": "code",
   "execution_count": 6,
   "metadata": {},
   "outputs": [],
   "source": [
    "interactions[\"click\"] = np.random.randint(0, 20, size=len(interactions))"
   ]
  },
  {
   "cell_type": "code",
   "execution_count": 7,
   "metadata": {},
   "outputs": [
    {
     "data": {
      "text/html": [
       "<div>\n",
       "<style scoped>\n",
       "    .dataframe tbody tr th:only-of-type {\n",
       "        vertical-align: middle;\n",
       "    }\n",
       "\n",
       "    .dataframe tbody tr th {\n",
       "        vertical-align: top;\n",
       "    }\n",
       "\n",
       "    .dataframe thead th {\n",
       "        text-align: right;\n",
       "    }\n",
       "</style>\n",
       "<table border=\"1\" class=\"dataframe\">\n",
       "  <thead>\n",
       "    <tr style=\"text-align: right;\">\n",
       "      <th></th>\n",
       "      <th>user</th>\n",
       "      <th>item</th>\n",
       "      <th>rating</th>\n",
       "      <th>relevant</th>\n",
       "      <th>click</th>\n",
       "    </tr>\n",
       "  </thead>\n",
       "  <tbody>\n",
       "    <tr>\n",
       "      <th>0</th>\n",
       "      <td>1</td>\n",
       "      <td>0</td>\n",
       "      <td>5</td>\n",
       "      <td>1</td>\n",
       "      <td>9</td>\n",
       "    </tr>\n",
       "    <tr>\n",
       "      <th>1</th>\n",
       "      <td>1</td>\n",
       "      <td>1</td>\n",
       "      <td>3</td>\n",
       "      <td>0</td>\n",
       "      <td>18</td>\n",
       "    </tr>\n",
       "    <tr>\n",
       "      <th>2</th>\n",
       "      <td>1</td>\n",
       "      <td>2</td>\n",
       "      <td>3</td>\n",
       "      <td>0</td>\n",
       "      <td>7</td>\n",
       "    </tr>\n",
       "    <tr>\n",
       "      <th>3</th>\n",
       "      <td>1</td>\n",
       "      <td>3</td>\n",
       "      <td>4</td>\n",
       "      <td>1</td>\n",
       "      <td>7</td>\n",
       "    </tr>\n",
       "    <tr>\n",
       "      <th>4</th>\n",
       "      <td>1</td>\n",
       "      <td>4</td>\n",
       "      <td>5</td>\n",
       "      <td>1</td>\n",
       "      <td>19</td>\n",
       "    </tr>\n",
       "    <tr>\n",
       "      <th>...</th>\n",
       "      <td>...</td>\n",
       "      <td>...</td>\n",
       "      <td>...</td>\n",
       "      <td>...</td>\n",
       "      <td>...</td>\n",
       "    </tr>\n",
       "    <tr>\n",
       "      <th>1000204</th>\n",
       "      <td>6040</td>\n",
       "      <td>772</td>\n",
       "      <td>1</td>\n",
       "      <td>0</td>\n",
       "      <td>19</td>\n",
       "    </tr>\n",
       "    <tr>\n",
       "      <th>1000205</th>\n",
       "      <td>6040</td>\n",
       "      <td>1106</td>\n",
       "      <td>5</td>\n",
       "      <td>1</td>\n",
       "      <td>4</td>\n",
       "    </tr>\n",
       "    <tr>\n",
       "      <th>1000206</th>\n",
       "      <td>6040</td>\n",
       "      <td>365</td>\n",
       "      <td>5</td>\n",
       "      <td>1</td>\n",
       "      <td>17</td>\n",
       "    </tr>\n",
       "    <tr>\n",
       "      <th>1000207</th>\n",
       "      <td>6040</td>\n",
       "      <td>152</td>\n",
       "      <td>4</td>\n",
       "      <td>1</td>\n",
       "      <td>16</td>\n",
       "    </tr>\n",
       "    <tr>\n",
       "      <th>1000208</th>\n",
       "      <td>6040</td>\n",
       "      <td>26</td>\n",
       "      <td>4</td>\n",
       "      <td>1</td>\n",
       "      <td>3</td>\n",
       "    </tr>\n",
       "  </tbody>\n",
       "</table>\n",
       "<p>1000209 rows × 5 columns</p>\n",
       "</div>"
      ],
      "text/plain": [
       "         user  item  rating  relevant  click\n",
       "0           1     0       5         1      9\n",
       "1           1     1       3         0     18\n",
       "2           1     2       3         0      7\n",
       "3           1     3       4         1      7\n",
       "4           1     4       5         1     19\n",
       "...       ...   ...     ...       ...    ...\n",
       "1000204  6040   772       1         0     19\n",
       "1000205  6040  1106       5         1      4\n",
       "1000206  6040   365       5         1     17\n",
       "1000207  6040   152       4         1     16\n",
       "1000208  6040    26       4         1      3\n",
       "\n",
       "[1000209 rows x 5 columns]"
      ]
     },
     "execution_count": 7,
     "metadata": {},
     "output_type": "execute_result"
    }
   ],
   "source": [
    "interactions"
   ]
  },
  {
   "cell_type": "code",
   "execution_count": 8,
   "metadata": {},
   "outputs": [],
   "source": [
    "\n",
    "bpr_df_click = generate_bpr_dataset_with_click_data(interactions)"
   ]
  },
  {
   "cell_type": "code",
   "execution_count": 9,
   "metadata": {},
   "outputs": [
    {
     "data": {
      "text/html": [
       "<div>\n",
       "<style scoped>\n",
       "    .dataframe tbody tr th:only-of-type {\n",
       "        vertical-align: middle;\n",
       "    }\n",
       "\n",
       "    .dataframe tbody tr th {\n",
       "        vertical-align: top;\n",
       "    }\n",
       "\n",
       "    .dataframe thead th {\n",
       "        text-align: right;\n",
       "    }\n",
       "</style>\n",
       "<table border=\"1\" class=\"dataframe\">\n",
       "  <thead>\n",
       "    <tr style=\"text-align: right;\">\n",
       "      <th></th>\n",
       "      <th>user</th>\n",
       "      <th>pos_item</th>\n",
       "      <th>click_position</th>\n",
       "      <th>neg_item</th>\n",
       "    </tr>\n",
       "  </thead>\n",
       "  <tbody>\n",
       "    <tr>\n",
       "      <th>0</th>\n",
       "      <td>1</td>\n",
       "      <td>0</td>\n",
       "      <td>9</td>\n",
       "      <td>1584</td>\n",
       "    </tr>\n",
       "    <tr>\n",
       "      <th>1</th>\n",
       "      <td>1</td>\n",
       "      <td>0</td>\n",
       "      <td>9</td>\n",
       "      <td>2915</td>\n",
       "    </tr>\n",
       "    <tr>\n",
       "      <th>2</th>\n",
       "      <td>1</td>\n",
       "      <td>0</td>\n",
       "      <td>9</td>\n",
       "      <td>2918</td>\n",
       "    </tr>\n",
       "    <tr>\n",
       "      <th>3</th>\n",
       "      <td>1</td>\n",
       "      <td>1</td>\n",
       "      <td>18</td>\n",
       "      <td>2526</td>\n",
       "    </tr>\n",
       "    <tr>\n",
       "      <th>4</th>\n",
       "      <td>1</td>\n",
       "      <td>1</td>\n",
       "      <td>18</td>\n",
       "      <td>3228</td>\n",
       "    </tr>\n",
       "    <tr>\n",
       "      <th>...</th>\n",
       "      <td>...</td>\n",
       "      <td>...</td>\n",
       "      <td>...</td>\n",
       "      <td>...</td>\n",
       "    </tr>\n",
       "    <tr>\n",
       "      <th>3000622</th>\n",
       "      <td>6040</td>\n",
       "      <td>152</td>\n",
       "      <td>16</td>\n",
       "      <td>962</td>\n",
       "    </tr>\n",
       "    <tr>\n",
       "      <th>3000623</th>\n",
       "      <td>6040</td>\n",
       "      <td>152</td>\n",
       "      <td>16</td>\n",
       "      <td>1793</td>\n",
       "    </tr>\n",
       "    <tr>\n",
       "      <th>3000624</th>\n",
       "      <td>6040</td>\n",
       "      <td>26</td>\n",
       "      <td>3</td>\n",
       "      <td>3077</td>\n",
       "    </tr>\n",
       "    <tr>\n",
       "      <th>3000625</th>\n",
       "      <td>6040</td>\n",
       "      <td>26</td>\n",
       "      <td>3</td>\n",
       "      <td>1873</td>\n",
       "    </tr>\n",
       "    <tr>\n",
       "      <th>3000626</th>\n",
       "      <td>6040</td>\n",
       "      <td>26</td>\n",
       "      <td>3</td>\n",
       "      <td>73</td>\n",
       "    </tr>\n",
       "  </tbody>\n",
       "</table>\n",
       "<p>3000627 rows × 4 columns</p>\n",
       "</div>"
      ],
      "text/plain": [
       "         user  pos_item  click_position  neg_item\n",
       "0           1         0               9      1584\n",
       "1           1         0               9      2915\n",
       "2           1         0               9      2918\n",
       "3           1         1              18      2526\n",
       "4           1         1              18      3228\n",
       "...       ...       ...             ...       ...\n",
       "3000622  6040       152              16       962\n",
       "3000623  6040       152              16      1793\n",
       "3000624  6040        26               3      3077\n",
       "3000625  6040        26               3      1873\n",
       "3000626  6040        26               3        73\n",
       "\n",
       "[3000627 rows x 4 columns]"
      ]
     },
     "execution_count": 9,
     "metadata": {},
     "output_type": "execute_result"
    }
   ],
   "source": [
    "bpr_df_click"
   ]
  },
  {
   "cell_type": "code",
   "execution_count": 10,
   "metadata": {},
   "outputs": [],
   "source": [
    "from bpr_mf import bprMFLClickDebiasingDataloader, bprMF, bpr_loss_with_reg_with_debiased_click, bpr_train_with_debiasing"
   ]
  },
  {
   "cell_type": "code",
   "execution_count": 11,
   "metadata": {},
   "outputs": [
    {
     "data": {
      "text/html": [
       "<div>\n",
       "<style scoped>\n",
       "    .dataframe tbody tr th:only-of-type {\n",
       "        vertical-align: middle;\n",
       "    }\n",
       "\n",
       "    .dataframe tbody tr th {\n",
       "        vertical-align: top;\n",
       "    }\n",
       "\n",
       "    .dataframe thead th {\n",
       "        text-align: right;\n",
       "    }\n",
       "</style>\n",
       "<table border=\"1\" class=\"dataframe\">\n",
       "  <thead>\n",
       "    <tr style=\"text-align: right;\">\n",
       "      <th></th>\n",
       "      <th>user</th>\n",
       "      <th>pos_item</th>\n",
       "      <th>click_position</th>\n",
       "      <th>neg_item</th>\n",
       "    </tr>\n",
       "  </thead>\n",
       "  <tbody>\n",
       "    <tr>\n",
       "      <th>0</th>\n",
       "      <td>1</td>\n",
       "      <td>0</td>\n",
       "      <td>9</td>\n",
       "      <td>1584</td>\n",
       "    </tr>\n",
       "    <tr>\n",
       "      <th>1</th>\n",
       "      <td>1</td>\n",
       "      <td>0</td>\n",
       "      <td>9</td>\n",
       "      <td>2915</td>\n",
       "    </tr>\n",
       "    <tr>\n",
       "      <th>2</th>\n",
       "      <td>1</td>\n",
       "      <td>0</td>\n",
       "      <td>9</td>\n",
       "      <td>2918</td>\n",
       "    </tr>\n",
       "    <tr>\n",
       "      <th>3</th>\n",
       "      <td>1</td>\n",
       "      <td>1</td>\n",
       "      <td>18</td>\n",
       "      <td>2526</td>\n",
       "    </tr>\n",
       "    <tr>\n",
       "      <th>4</th>\n",
       "      <td>1</td>\n",
       "      <td>1</td>\n",
       "      <td>18</td>\n",
       "      <td>3228</td>\n",
       "    </tr>\n",
       "    <tr>\n",
       "      <th>...</th>\n",
       "      <td>...</td>\n",
       "      <td>...</td>\n",
       "      <td>...</td>\n",
       "      <td>...</td>\n",
       "    </tr>\n",
       "    <tr>\n",
       "      <th>3000622</th>\n",
       "      <td>6040</td>\n",
       "      <td>152</td>\n",
       "      <td>16</td>\n",
       "      <td>962</td>\n",
       "    </tr>\n",
       "    <tr>\n",
       "      <th>3000623</th>\n",
       "      <td>6040</td>\n",
       "      <td>152</td>\n",
       "      <td>16</td>\n",
       "      <td>1793</td>\n",
       "    </tr>\n",
       "    <tr>\n",
       "      <th>3000624</th>\n",
       "      <td>6040</td>\n",
       "      <td>26</td>\n",
       "      <td>3</td>\n",
       "      <td>3077</td>\n",
       "    </tr>\n",
       "    <tr>\n",
       "      <th>3000625</th>\n",
       "      <td>6040</td>\n",
       "      <td>26</td>\n",
       "      <td>3</td>\n",
       "      <td>1873</td>\n",
       "    </tr>\n",
       "    <tr>\n",
       "      <th>3000626</th>\n",
       "      <td>6040</td>\n",
       "      <td>26</td>\n",
       "      <td>3</td>\n",
       "      <td>73</td>\n",
       "    </tr>\n",
       "  </tbody>\n",
       "</table>\n",
       "<p>3000627 rows × 4 columns</p>\n",
       "</div>"
      ],
      "text/plain": [
       "         user  pos_item  click_position  neg_item\n",
       "0           1         0               9      1584\n",
       "1           1         0               9      2915\n",
       "2           1         0               9      2918\n",
       "3           1         1              18      2526\n",
       "4           1         1              18      3228\n",
       "...       ...       ...             ...       ...\n",
       "3000622  6040       152              16       962\n",
       "3000623  6040       152              16      1793\n",
       "3000624  6040        26               3      3077\n",
       "3000625  6040        26               3      1873\n",
       "3000626  6040        26               3        73\n",
       "\n",
       "[3000627 rows x 4 columns]"
      ]
     },
     "execution_count": 11,
     "metadata": {},
     "output_type": "execute_result"
    }
   ],
   "source": [
    "bpr_df_click"
   ]
  },
  {
   "cell_type": "code",
   "execution_count": 12,
   "metadata": {},
   "outputs": [],
   "source": [
    "data_bpr = bprMFLClickDebiasingDataloader(bpr_df_click)\n",
    "\n",
    "\n",
    "train_len = int(0.7 * len(data_bpr))\n",
    "test_len = len(data_bpr) - train_len\n",
    "\n",
    "\n",
    "train_data, test_data = random_split(data_bpr, [train_len, test_len])\n",
    "\n",
    "\n",
    "\n",
    "dataloader_bpr_train = DataLoader(train_data, batch_size=256, shuffle=True)\n",
    "dataloader_bpr_test = DataLoader(test_data, batch_size=256, shuffle=True)"
   ]
  },
  {
   "cell_type": "code",
   "execution_count": 13,
   "metadata": {},
   "outputs": [],
   "source": [
    "n_users = bpr_df_click.user.max() + 1\n",
    "n_items = bpr_df_click.pos_item.max() + 1"
   ]
  },
  {
   "cell_type": "code",
   "execution_count": 14,
   "metadata": {},
   "outputs": [],
   "source": [
    "model = bprMF(num_users=n_users, num_items=n_items, factors=30).to(device)\n",
    "optimizer = torch.optim.Adam(model.parameters(), lr=1e-3)"
   ]
  },
  {
   "cell_type": "code",
   "execution_count": 15,
   "metadata": {},
   "outputs": [],
   "source": [
    "TRAIN_MODEL = True"
   ]
  },
  {
   "cell_type": "code",
   "execution_count": 16,
   "metadata": {},
   "outputs": [
    {
     "name": "stdout",
     "output_type": "stream",
     "text": [
      "Model not found locally... training.\n",
      "Train epoch mean loss: 1.067499;\n",
      " Test epoch mean loss: 0.842296; Epoch: 1/10\n",
      "Train epoch mean loss: 0.737804;\n",
      " Test epoch mean loss: 0.684434; Epoch: 2/10\n",
      "Train epoch mean loss: 0.612864;\n",
      " Test epoch mean loss: 0.614189; Epoch: 3/10\n",
      "Train epoch mean loss: 0.538058;\n",
      " Test epoch mean loss: 0.576963; Epoch: 4/10\n",
      "Train epoch mean loss: 0.481989;\n",
      " Test epoch mean loss: 0.554073; Epoch: 5/10\n",
      "Train epoch mean loss: 0.435887;\n",
      " Test epoch mean loss: 0.542000; Epoch: 6/10\n",
      "Train epoch mean loss: 0.398247;\n",
      " Test epoch mean loss: 0.538667; Epoch: 7/10\n",
      "Train epoch mean loss: 0.368050;\n",
      " Test epoch mean loss: 0.540757; Epoch: 8/10\n",
      "Train epoch mean loss: 0.344111;\n",
      " Test epoch mean loss: 0.548093; Epoch: 9/10\n",
      "Train epoch mean loss: 0.324987;\n",
      " Test epoch mean loss: 0.557952; Epoch: 10/10\n"
     ]
    }
   ],
   "source": [
    "import pickle\n",
    "\n",
    "if not os.path.exists('bpr_model.pkl') or TRAIN_MODEL:\n",
    "    print(\"Model not found locally... training.\")\n",
    "    train_loss, test_loss = bpr_train_with_debiasing(\n",
    "        train_data_loader=dataloader_bpr_train,\n",
    "        test_data_loader=dataloader_bpr_test,\n",
    "        model=model,\n",
    "        bpr_loss=bpr_loss_with_reg_with_debiased_click,\n",
    "        optimizer=optimizer,\n",
    "        reg_lambda=5e-4,\n",
    "        debug=True\n",
    "    )\n",
    "    with open('bpr_model.pkl', 'wb') as f:\n",
    "        pickle.dump(model, f)\n",
    "\n",
    "else:\n",
    "    print(\"Model found locally... reading.\")\n",
    "    with open('bpr_model.pkl', 'rb') as f:\n",
    "        model = pickle.load(f)"
   ]
  },
  {
   "cell_type": "code",
   "execution_count": 17,
   "metadata": {},
   "outputs": [],
   "source": [
    "def get_candidate_items(df, u):\n",
    "    user_history = list(interactions[df[\"user\"] == u].item)\n",
    "    return torch.tensor(user_history, device=device)"
   ]
  },
  {
   "cell_type": "code",
   "execution_count": 18,
   "metadata": {},
   "outputs": [],
   "source": [
    "h_u =  get_candidate_items(interactions, 1)"
   ]
  },
  {
   "cell_type": "code",
   "execution_count": null,
   "metadata": {},
   "outputs": [],
   "source": []
  },
  {
   "cell_type": "code",
   "execution_count": 19,
   "metadata": {},
   "outputs": [],
   "source": [
    "test_df = dataloader_bpr_test.dataset.dataset.data"
   ]
  },
  {
   "cell_type": "code",
   "execution_count": null,
   "metadata": {},
   "outputs": [],
   "source": []
  },
  {
   "cell_type": "code",
   "execution_count": null,
   "metadata": {},
   "outputs": [
    {
     "name": "stderr",
     "output_type": "stream",
     "text": [
      "/home/caio/dev/bpr-mf/bpr_mf.py:71: UserWarning: To copy construct from a tensor, it is recommended to use sourceTensor.detach().clone() or sourceTensor.detach().clone().requires_grad_(True), rather than torch.tensor(sourceTensor).\n",
      "  output = self.forward(torch.tensor(user, device=device), items_list)\n"
     ]
    }
   ],
   "source": [
    "bla = Evaluate(model, test_data, interactions, k=20)"
   ]
  },
  {
   "cell_type": "code",
   "execution_count": null,
   "metadata": {},
   "outputs": [
    {
     "data": {
      "text/plain": [
       "0.06459219914089076"
      ]
     },
     "execution_count": 49,
     "metadata": {},
     "output_type": "execute_result"
    }
   ],
   "source": [
    "bla.MAP_at_k()"
   ]
  }
 ],
 "metadata": {
  "kernelspec": {
   "display_name": ".bpr-mf (3.12.3)",
   "language": "python",
   "name": "python3"
  },
  "language_info": {
   "codemirror_mode": {
    "name": "ipython",
    "version": 3
   },
   "file_extension": ".py",
   "mimetype": "text/x-python",
   "name": "python",
   "nbconvert_exporter": "python",
   "pygments_lexer": "ipython3",
   "version": "3.12.3"
  }
 },
 "nbformat": 4,
 "nbformat_minor": 2
}

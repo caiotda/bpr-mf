{
 "cells": [
  {
   "cell_type": "code",
   "execution_count": 19,
   "metadata": {},
   "outputs": [],
   "source": [
    "from torch import nn\n",
    "from torch.utils.data import Dataset, DataLoader\n",
    "import torch\n",
    "import numpy as np\n",
    "\n",
    "import pandas as pd"
   ]
  },
  {
   "cell_type": "markdown",
   "metadata": {},
   "source": [
    "## Developing a simple matrix factorization with pytorch\n",
    "\n",
    "\n",
    "We'll start developing a matrix factorization model which focused on regressions tasks using pytorch for modelling and MSE for loss."
   ]
  },
  {
   "cell_type": "code",
   "execution_count": 1,
   "metadata": {},
   "outputs": [],
   "source": [
    "from simple_mf import MF, MFDataLoader"
   ]
  },
  {
   "cell_type": "code",
   "execution_count": null,
   "metadata": {},
   "outputs": [],
   "source": [
    "device = torch.device('cuda' if torch.cuda.is_available() else 'cpu')\n",
    "device"
   ]
  },
  {
   "cell_type": "code",
   "execution_count": null,
   "metadata": {},
   "outputs": [],
   "source": [
    "\n",
    "def train(dataloader, model, loss_fn, optimizer, n_epochs=10):\n",
    "    batch_losses = [] \n",
    "    epoch_losses = []\n",
    "    model.train()\n",
    "    for epoch in range(n_epochs):\n",
    "\n",
    "        epoch_loss = []\n",
    "        for batch, ((user_ids, item_ids), ratings) in enumerate(dataloader):\n",
    "            user_ids = user_ids.to(device)\n",
    "            item_ids = item_ids.to(device)\n",
    "            ratings = ratings.to(device).float()\n",
    "\n",
    "            pred = model(user_ids, item_ids)\n",
    "            loss = loss_fn(pred, ratings)\n",
    "\n",
    "            epoch_loss.append(loss.item())\n",
    "            batch_losses.append(loss.item())\n",
    "\n",
    "            loss.backward()\n",
    "            optimizer.step()\n",
    "            optimizer.zero_grad()\n",
    "        epoch_loss = sum(epoch_loss) / len(epoch_loss)\n",
    "        epoch_losses.append(epoch_loss)\n",
    "        print(f\"epoch mean loss: {epoch_loss:>7f}; Epoch: {epoch+1}/{n_epochs}\")\n",
    "    return batch_losses, epoch_losses\n",
    "        \n"
   ]
  },
  {
   "cell_type": "code",
   "execution_count": 90,
   "metadata": {},
   "outputs": [],
   "source": [
    "data = MFDataLoader('movielens_1m_ratings.csv')\n",
    "dataloader = DataLoader(data, batch_size=256, shuffle=True)"
   ]
  },
  {
   "cell_type": "code",
   "execution_count": 100,
   "metadata": {},
   "outputs": [],
   "source": [
    "model = MF(num_users=data.n_users, num_items=data.n_items, factors=30).to(device)\n",
    "loss_fn = nn.MSELoss()\n",
    "optimizer = torch.optim.Adam(model.parameters(), lr=1e-2)"
   ]
  },
  {
   "cell_type": "code",
   "execution_count": 101,
   "metadata": {},
   "outputs": [
    {
     "name": "stdout",
     "output_type": "stream",
     "text": [
      "epoch mean loss: 3.352641; Epoch: 1/10\n",
      "epoch mean loss: 1.405438; Epoch: 2/10\n",
      "epoch mean loss: 1.024184; Epoch: 3/10\n",
      "epoch mean loss: 0.905355; Epoch: 4/10\n",
      "epoch mean loss: 0.853854; Epoch: 5/10\n",
      "epoch mean loss: 0.824327; Epoch: 6/10\n",
      "epoch mean loss: 0.804313; Epoch: 7/10\n",
      "epoch mean loss: 0.792881; Epoch: 8/10\n",
      "epoch mean loss: 0.781831; Epoch: 9/10\n",
      "epoch mean loss: 0.775829; Epoch: 10/10\n"
     ]
    }
   ],
   "source": [
    "b_loss, e_loss = train(dataloader, model, loss_fn, optimizer)"
   ]
  },
  {
   "cell_type": "code",
   "execution_count": 104,
   "metadata": {},
   "outputs": [],
   "source": [
    "import matplotlib.pyplot as plt"
   ]
  },
  {
   "cell_type": "code",
   "execution_count": 107,
   "metadata": {},
   "outputs": [
    {
     "data": {
      "text/plain": [
       "[<matplotlib.lines.Line2D at 0x73f37b1477a0>]"
      ]
     },
     "execution_count": 107,
     "metadata": {},
     "output_type": "execute_result"
    },
    {
     "data": {
      "image/png": "[encoded data removed]",
      "text/plain": [
       "<Figure size 640x480 with 1 Axes>"
      ]
     },
     "metadata": {},
     "output_type": "display_data"
    }
   ],
   "source": [
    "plt.plot(e_loss, label='epoch loss')"
   ]
  },
  {
   "cell_type": "markdown",
   "metadata": {},
   "source": [
    "## Developing a MF model based using BPR opt\n",
    "\n",
    "\n",
    "Now we'll generalize the previous implementation using implicit feedback data and applying BPR (Bayesian personalized ranking) loss function, so that the model is capable of building personalzied rankings for users"
   ]
  },
  {
   "cell_type": "code",
   "execution_count": null,
   "metadata": {},
   "outputs": [],
   "source": []
  },
  {
   "cell_type": "markdown",
   "metadata": {},
   "source": [
    "### Step 1 : adapt training data for BPR\n",
    "\n",
    "\n",
    "BPR expects implicit feedback data and relative ordering in the training dataset"
   ]
  },
  {
   "cell_type": "code",
   "execution_count": 63,
   "metadata": {},
   "outputs": [],
   "source": [
    "from utils import generate_bpr_dataset"
   ]
  },
  {
   "cell_type": "code",
   "execution_count": 60,
   "metadata": {},
   "outputs": [],
   "source": [
    "interactions = pd.read_csv('movielens_1m_ratings.csv')[[\"user\", \"item\"]]"
   ]
  },
  {
   "cell_type": "code",
   "execution_count": 45,
   "metadata": {},
   "outputs": [],
   "source": [
    "zero_based_indexing = {v: K for K, v in enumerate(interactions[\"item\"].unique())}"
   ]
  },
  {
   "cell_type": "code",
   "execution_count": 61,
   "metadata": {},
   "outputs": [],
   "source": [
    "interactions[\"item\"] = interactions[\"item\"].map(zero_based_indexing)"
   ]
  },
  {
   "cell_type": "code",
   "execution_count": null,
   "metadata": {},
   "outputs": [],
   "source": []
  },
  {
   "cell_type": "code",
   "execution_count": 62,
   "metadata": {},
   "outputs": [
    {
     "data": {
      "text/html": [
       "<div>\n",
       "<style scoped>\n",
       "    .dataframe tbody tr th:only-of-type {\n",
       "        vertical-align: middle;\n",
       "    }\n",
       "\n",
       "    .dataframe tbody tr th {\n",
       "        vertical-align: top;\n",
       "    }\n",
       "\n",
       "    .dataframe thead th {\n",
       "        text-align: right;\n",
       "    }\n",
       "</style>\n",
       "<table border=\"1\" class=\"dataframe\">\n",
       "  <thead>\n",
       "    <tr style=\"text-align: right;\">\n",
       "      <th></th>\n",
       "      <th>user</th>\n",
       "      <th>pos_item</th>\n",
       "      <th>neg_item</th>\n",
       "    </tr>\n",
       "  </thead>\n",
       "  <tbody>\n",
       "    <tr>\n",
       "      <th>0</th>\n",
       "      <td>1</td>\n",
       "      <td>0</td>\n",
       "      <td>2173</td>\n",
       "    </tr>\n",
       "    <tr>\n",
       "      <th>1</th>\n",
       "      <td>1</td>\n",
       "      <td>0</td>\n",
       "      <td>3529</td>\n",
       "    </tr>\n",
       "    <tr>\n",
       "      <th>2</th>\n",
       "      <td>1</td>\n",
       "      <td>0</td>\n",
       "      <td>1174</td>\n",
       "    </tr>\n",
       "    <tr>\n",
       "      <th>3</th>\n",
       "      <td>1</td>\n",
       "      <td>1</td>\n",
       "      <td>3063</td>\n",
       "    </tr>\n",
       "    <tr>\n",
       "      <th>4</th>\n",
       "      <td>1</td>\n",
       "      <td>1</td>\n",
       "      <td>1035</td>\n",
       "    </tr>\n",
       "    <tr>\n",
       "      <th>...</th>\n",
       "      <td>...</td>\n",
       "      <td>...</td>\n",
       "      <td>...</td>\n",
       "    </tr>\n",
       "    <tr>\n",
       "      <th>3000622</th>\n",
       "      <td>6040</td>\n",
       "      <td>152</td>\n",
       "      <td>3288</td>\n",
       "    </tr>\n",
       "    <tr>\n",
       "      <th>3000623</th>\n",
       "      <td>6040</td>\n",
       "      <td>152</td>\n",
       "      <td>30</td>\n",
       "    </tr>\n",
       "    <tr>\n",
       "      <th>3000624</th>\n",
       "      <td>6040</td>\n",
       "      <td>26</td>\n",
       "      <td>1341</td>\n",
       "    </tr>\n",
       "    <tr>\n",
       "      <th>3000625</th>\n",
       "      <td>6040</td>\n",
       "      <td>26</td>\n",
       "      <td>2117</td>\n",
       "    </tr>\n",
       "    <tr>\n",
       "      <th>3000626</th>\n",
       "      <td>6040</td>\n",
       "      <td>26</td>\n",
       "      <td>3268</td>\n",
       "    </tr>\n",
       "  </tbody>\n",
       "</table>\n",
       "<p>3000627 rows × 3 columns</p>\n",
       "</div>"
      ],
      "text/plain": [
       "         user  pos_item  neg_item\n",
       "0           1         0      2173\n",
       "1           1         0      3529\n",
       "2           1         0      1174\n",
       "3           1         1      3063\n",
       "4           1         1      1035\n",
       "...       ...       ...       ...\n",
       "3000622  6040       152      3288\n",
       "3000623  6040       152        30\n",
       "3000624  6040        26      1341\n",
       "3000625  6040        26      2117\n",
       "3000626  6040        26      3268\n",
       "\n",
       "[3000627 rows x 3 columns]"
      ]
     },
     "execution_count": 62,
     "metadata": {},
     "output_type": "execute_result"
    }
   ],
   "source": [
    "generate_bpr_dataset(interactions)"
   ]
  }
 ],
 "metadata": {
  "kernelspec": {
   "display_name": ".bpr-mf",
   "language": "python",
   "name": "python3"
  },
  "language_info": {
   "codemirror_mode": {
    "name": "ipython",
    "version": 3
   },
   "file_extension": ".py",
   "mimetype": "text/x-python",
   "name": "python",
   "nbconvert_exporter": "python",
   "pygments_lexer": "ipython3",
   "version": "3.12.3"
  }
 },
 "nbformat": 4,
 "nbformat_minor": 2
}
